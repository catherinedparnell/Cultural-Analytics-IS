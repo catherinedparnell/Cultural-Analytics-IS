{
 "cells": [
  {
   "cell_type": "code",
   "execution_count": 2,
   "metadata": {
    "collapsed": false
   },
   "outputs": [
    {
     "name": "stdout",
     "output_type": "stream",
     "text": [
      "read 6378 lines\n"
     ]
    }
   ],
   "source": [
    "import csv\n",
    "import matplotlib.pyplot as plt\n",
    "import numpy as np\n",
    "\n",
    "%matplotlib inline\n",
    "\n",
    "input_data = list()\n",
    "row_count = 0\n",
    "\n",
    "metadata=list()\n",
    "with open('../texts/eebo/metadata-eebo-selected.csv', 'rt') as csvfile:\n",
    "    reader = csv.reader(csvfile)\n",
    "    for row in reader:\n",
    "        # deal with the header\n",
    "        if row_count != 0:\n",
    "            metadata.append(row)   \n",
    "        row_count += 1\n",
    "print(\"read\",row_count,\"lines\")"
   ]
  },
  {
   "cell_type": "code",
   "execution_count": 3,
   "metadata": {
    "collapsed": false
   },
   "outputs": [],
   "source": [
    "publication_years = [x[0] for x in metadata]\n",
    "\n",
    "data_to_plot = list()\n",
    "for i in sorted(set(publication_years)):\n",
    "    data_to_plot.append([i,publication_years.count(i)])"
   ]
  },
  {
   "cell_type": "code",
   "execution_count": 4,
   "metadata": {
    "collapsed": false
   },
   "outputs": [
    {
     "data": {
      "image/png": "[encoded data removed]",
      "text/plain": [
       "<matplotlib.figure.Figure at 0x10c2a2198>"
      ]
     },
     "metadata": {},
     "output_type": "display_data"
    }
   ],
   "source": [
    "x = [int(i[0]) for i in data_to_plot]\n",
    "y = [int(i[1]) for i in data_to_plot]\n",
    "plt.title(\"Texts Published by Year\")\n",
    "plt.ylabel(\"Count\")\n",
    "plt.bar(x,y)\n",
    "plt.show()"
   ]
  },
  {
   "cell_type": "code",
   "execution_count": 5,
   "metadata": {
    "collapsed": false
   },
   "outputs": [
    {
     "data": {
      "text/plain": [
       "[['1521', 5],\n",
       " ['1522', 1],\n",
       " ['1523', 5],\n",
       " ['1524', 1],\n",
       " ['1525', 12],\n",
       " ['1526', 6],\n",
       " ['1527', 4],\n",
       " ['1528', 11],\n",
       " ['1529', 8],\n",
       " ['1530', 17],\n",
       " ['1531', 10],\n",
       " ['1532', 12],\n",
       " ['1533', 25],\n",
       " ['1534', 31],\n",
       " ['1535', 19],\n",
       " ['1536', 17],\n",
       " ['1537', 13],\n",
       " ['1538', 13],\n",
       " ['1539', 17],\n",
       " ['1540', 18],\n",
       " ['1541', 9],\n",
       " ['1542', 22],\n",
       " ['1543', 17],\n",
       " ['1544', 13],\n",
       " ['1545', 19],\n",
       " ['1546', 14],\n",
       " ['1547', 23],\n",
       " ['1548', 52],\n",
       " ['1549', 38],\n",
       " ['1550', 45],\n",
       " ['1551', 20],\n",
       " ['1552', 18],\n",
       " ['1553', 32],\n",
       " ['1554', 30],\n",
       " ['1555', 27],\n",
       " ['1556', 26],\n",
       " ['1557', 22],\n",
       " ['1558', 23],\n",
       " ['1559', 30],\n",
       " ['1560', 44],\n",
       " ['1561', 24],\n",
       " ['1562', 45],\n",
       " ['1563', 22],\n",
       " ['1564', 25],\n",
       " ['1565', 41],\n",
       " ['1566', 55],\n",
       " ['1567', 24],\n",
       " ['1568', 21],\n",
       " ['1569', 50],\n",
       " ['1570', 64],\n",
       " ['1571', 37],\n",
       " ['1572', 40],\n",
       " ['1573', 28],\n",
       " ['1574', 32],\n",
       " ['1575', 37],\n",
       " ['1576', 31],\n",
       " ['1577', 49],\n",
       " ['1578', 48],\n",
       " ['1579', 56],\n",
       " ['1580', 58],\n",
       " ['1581', 65],\n",
       " ['1582', 45],\n",
       " ['1583', 41],\n",
       " ['1584', 48],\n",
       " ['1585', 49],\n",
       " ['1586', 40],\n",
       " ['1587', 48],\n",
       " ['1588', 55],\n",
       " ['1589', 72],\n",
       " ['1590', 71],\n",
       " ['1591', 84],\n",
       " ['1592', 72],\n",
       " ['1593', 59],\n",
       " ['1594', 64],\n",
       " ['1595', 86],\n",
       " ['1596', 74],\n",
       " ['1597', 54],\n",
       " ['1598', 67],\n",
       " ['1599', 67],\n",
       " ['1600', 92],\n",
       " ['1601', 53],\n",
       " ['1602', 73],\n",
       " ['1603', 112],\n",
       " ['1604', 84],\n",
       " ['1605', 80],\n",
       " ['1606', 96],\n",
       " ['1607', 98],\n",
       " ['1608', 77],\n",
       " ['1609', 106],\n",
       " ['1610', 75],\n",
       " ['1611', 68],\n",
       " ['1612', 99],\n",
       " ['1613', 105],\n",
       " ['1614', 82],\n",
       " ['1615', 114],\n",
       " ['1616', 88],\n",
       " ['1617', 56],\n",
       " ['1618', 116],\n",
       " ['1619', 65],\n",
       " ['1620', 112],\n",
       " ['1621', 110],\n",
       " ['1622', 100],\n",
       " ['1623', 89],\n",
       " ['1624', 112],\n",
       " ['1625', 133],\n",
       " ['1626', 63],\n",
       " ['1627', 59],\n",
       " ['1628', 88],\n",
       " ['1629', 77],\n",
       " ['1630', 119],\n",
       " ['1631', 111],\n",
       " ['1632', 82],\n",
       " ['1633', 99],\n",
       " ['1634', 72],\n",
       " ['1635', 108],\n",
       " ['1636', 73],\n",
       " ['1637', 81],\n",
       " ['1638', 140],\n",
       " ['1639', 93]]"
      ]
     },
     "execution_count": 5,
     "metadata": {},
     "output_type": "execute_result"
    }
   ],
   "source": [
    "data_to_plot"
   ]
  },
  {
   "cell_type": "code",
   "execution_count": null,
   "metadata": {
    "collapsed": true
   },
   "outputs": [],
   "source": []
  }
 ],
 "metadata": {
  "kernelspec": {
   "display_name": "Python 3",
   "language": "python",
   "name": "python3"
  },
  "language_info": {
   "codemirror_mode": {
    "name": "ipython",
    "version": 3
   },
   "file_extension": ".py",
   "mimetype": "text/x-python",
   "name": "python",
   "nbconvert_exporter": "python",
   "pygments_lexer": "ipython3",
   "version": "3.5.9"
  }
 },
 "nbformat": 4,
 "nbformat_minor": 2
}
