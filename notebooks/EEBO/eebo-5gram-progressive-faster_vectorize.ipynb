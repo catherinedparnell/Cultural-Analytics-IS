{
 "cells": [
  {
   "cell_type": "code",
   "execution_count": 11,
   "metadata": {},
   "outputs": [],
   "source": [
    "#!/usr/bin/env python\n",
    "# coding: utf-8\n",
    "\n",
    "import os, sys\n",
    "from glob import glob\n",
    "import gzip\n",
    "import gc\n",
    "import csv\n",
    "import networkx as nx\n",
    "import re\n",
    "import matplotlib.pyplot as plt\n",
    "%matplotlib inline\n",
    "\n",
    "from sklearn.feature_extraction.text import CountVectorizer"
   ]
  },
  {
   "cell_type": "code",
   "execution_count": 12,
   "metadata": {},
   "outputs": [],
   "source": [
    "def spellProcessor(word):\n",
    "    word = word.lower()\n",
    "    word = word.replace(\"gyftis\", \"gifts\")\n",
    "    word = word.replace(\"gether\", \"gather\")\n",
    "    word = word.replace(\"spirituall\", \"spiritual\")\n",
    "    word = word.replace(\"feythfull\", \"faith\")\n",
    "    word = word.replace(\"wytnes\", \"witness\")\n",
    "    word = word.replace(\"almes\", \"alms\")\n",
    "    word = word.replace(\"desyre\", \"desire\")\n",
    "    word = word.replace(\"selfe\", \"self\")\n",
    "    word = word.replace(\"saffely\", \"safely\")\n",
    "    word = word.replace(\"realme\", \"realm\")\n",
    "    word = word.replace(\"acte\", \"act\")\n",
    "    word = word.replace(\"fourme\", \"form\")\n",
    "    word = word.replace(\"subiectes\", \"subjects\")\n",
    "    word = word.replace(\"theyr\", \"their\")\n",
    "    word = word.replace(\"kynde\", \"kind\")\n",
    "    word = word.replace(\"kynge\", \"king\")\n",
    "    word = word.replace(\"kyndes\", \"kinds\")\n",
    "    word = word.replace(\"vpon\", \"unto\")\n",
    "    word = word.replace(\"purueyours\", \"purveyors\")\n",
    "    word = word.replace(\"highnes\", \"highness\")\n",
    "    word = word.replace(\"euery\", \"every\")\n",
    "    word = word.replace(\"quene\", \"queen\")\n",
    "    word = word.replace(\"quenes\", \"queens\")\n",
    "    word = word.replace(\"whiche\", \"which\")\n",
    "    word = word.replace(\"bloude\", \"blood\")\n",
    "    word = word.replace(\"soueraine\", \"sovereign\")\n",
    "    word = word.replace(\"enactd\", \"enacted\")\n",
    "    word = word.replace(\"vs\", \"us\")\n",
    "    \n",
    "    word = re.sub('\\d','', word)\n",
    "    return word\n",
    "\n",
    "stopWords = [\",\",\"the\",\"and\",\"of\",\"or\",\"to\",\"in\",\"shall\",\"be\",\"that\",\"any\",\"by\",\".\",\n",
    "              \"such\",\"as\",\"this\",\"for\",\"same\",\"all\",\"said\",\"other\",\"'s\",\";\",\n",
    "              \"her\",\"is\",\"every\",\"[\",\"]\",\"they\",\"within\", \"our\", \"not\", \"so\",\n",
    "              \"made\", \"no\", \"then\", \":\", \"do\", \"from\", \"if\", \"it\", \"which\", \"at\", \"with\",\n",
    "             \"thereof\",\"upon\", \"a\", \"because\", \"used\", \"some\", \"but\", \"aforesaid\", \"also\",\n",
    "             \")\",\"(\", \"what\", \"&\", \"may\", \"are\", \"their\", \"them\", \"sayde\", \"suche\", \"shalbe\", \"anye\", \"sayd\",\n",
    "             \"thesaid\", \"/\", \"...\", \"/\", \"either\", \"haue\", \"vnto\", \"thy\", \"did\", \"was\", \"were\", \"have\", \"thee\", \n",
    "             \"your\", \"thou\", \"unto\", \"hath\", \"had\", \"went\",\"kl\"]"
   ]
  },
  {
   "cell_type": "code",
   "execution_count": 13,
   "metadata": {},
   "outputs": [],
   "source": [
    "def extract_five_grams(term):\n",
    "    words = list()\n",
    "    for i, idx in vectorizer.vocabulary_.items():\n",
    "        i = i.split()\n",
    "        if i[2] == term:\n",
    "            # get sums\n",
    "            vocab_sums = dtm.sum(axis=0)\n",
    "            count = (vocab_sums[0, idx]) \n",
    "            for j in range(count):\n",
    "                words.append(i[0])\n",
    "                words.append(i[1])\n",
    "                words.append(i[3])\n",
    "                words.append(i[4])\n",
    "    return(words)"
   ]
  },
  {
   "cell_type": "code",
   "execution_count": 14,
   "metadata": {},
   "outputs": [],
   "source": [
    "files = glob(\"../texts/eebo/eebo-year*gz\")\n",
    "labels = [os.path.basename(x).split(\".\")[0] for x in files]\n",
    "labels = [x.split(\"-\")[2] for x in labels]"
   ]
  },
  {
   "cell_type": "code",
   "execution_count": 15,
   "metadata": {},
   "outputs": [],
   "source": [
    "# create a list of file objects\n",
    "fp_list = [gzip.open(x) for x in files]"
   ]
  },
  {
   "cell_type": "code",
   "execution_count": 16,
   "metadata": {},
   "outputs": [],
   "source": [
    "five_gram_data = dict()\n",
    "for i, y in enumerate(fp_list):\n",
    "    # re-establisher vectorizer\n",
    "    vectorizer = CountVectorizer(\n",
    "        input='files',\n",
    "        lowercase=True,\n",
    "        ngram_range=(5,5),\n",
    "        preprocessor=spellProcessor,\n",
    "        stop_words=stopWords)\n",
    "    \n",
    "    print(\"starting: {0}\".format(labels[i]))\n",
    "\n",
    "    # vectorize model\n",
    "    print(\" vectorizing...\")\n",
    "    dtm = vectorizer.fit_transform(fp_list[i])\n",
    "\n",
    "    print(\" saving five-grams...\")\n",
    "    csvfile = gzip.open('../texts/eebo/eebo-5gram-' + labels[i] + '.csv.gz', 'wt')\n",
    "    writer = csv.writer(csvfile, delimiter=',')\n",
    "    sums = dtm.sum(axis=0)\n",
    "    for i, idx in vectorizer.vocabulary_.items():\n",
    "        writer.writerow([i,sums[0,idx]])\n",
    "    \n",
    "    # free memory\n",
    "    del vectorizer, dtm, sums\n",
    "    gc.collect()"
   ]
  },
  {
   "cell_type": "code",
   "execution_count": 17,
   "metadata": {},
   "outputs": [
    {
     "name": "stdout",
     "output_type": "stream",
     "text": [
      " extracting five-gram terms...\n"
     ]
    },
    {
     "ename": "NameError",
     "evalue": "name 'vectorizer' is not defined",
     "output_type": "error",
     "traceback": [
      "\u001b[0;31m---------------------------------------------------------------------------\u001b[0m",
      "\u001b[0;31mNameError\u001b[0m                                 Traceback (most recent call last)",
      "\u001b[0;32m<ipython-input-17-ded940059d87>\u001b[0m in \u001b[0;36m<module>\u001b[0;34m\u001b[0m\n\u001b[1;32m      9\u001b[0m \u001b[0;31m### for loop goes here\u001b[0m\u001b[0;34m\u001b[0m\u001b[0;34m\u001b[0m\u001b[0;34m\u001b[0m\u001b[0m\n\u001b[1;32m     10\u001b[0m \u001b[0mprint\u001b[0m\u001b[0;34m(\u001b[0m\u001b[0;34m\" extracting five-gram terms...\"\u001b[0m\u001b[0;34m)\u001b[0m\u001b[0;34m\u001b[0m\u001b[0;34m\u001b[0m\u001b[0m\n\u001b[0;32m---> 11\u001b[0;31m \u001b[0mterms\u001b[0m \u001b[0;34m=\u001b[0m \u001b[0mextract_five_grams\u001b[0m\u001b[0;34m(\u001b[0m\u001b[0;34m\"elect\"\u001b[0m\u001b[0;34m)\u001b[0m\u001b[0;34m\u001b[0m\u001b[0;34m\u001b[0m\u001b[0m\n\u001b[0m\u001b[1;32m     12\u001b[0m \u001b[0mfive_gram_data\u001b[0m\u001b[0;34m[\u001b[0m\u001b[0mlabels\u001b[0m\u001b[0;34m[\u001b[0m\u001b[0mi\u001b[0m\u001b[0;34m]\u001b[0m\u001b[0;34m]\u001b[0m \u001b[0;34m=\u001b[0m \u001b[0mterms\u001b[0m\u001b[0;34m\u001b[0m\u001b[0;34m\u001b[0m\u001b[0m\n",
      "\u001b[0;32m<ipython-input-13-84d119891062>\u001b[0m in \u001b[0;36mextract_five_grams\u001b[0;34m(term)\u001b[0m\n\u001b[1;32m      1\u001b[0m \u001b[0;32mdef\u001b[0m \u001b[0mextract_five_grams\u001b[0m\u001b[0;34m(\u001b[0m\u001b[0mterm\u001b[0m\u001b[0;34m)\u001b[0m\u001b[0;34m:\u001b[0m\u001b[0;34m\u001b[0m\u001b[0;34m\u001b[0m\u001b[0m\n\u001b[1;32m      2\u001b[0m     \u001b[0mwords\u001b[0m \u001b[0;34m=\u001b[0m \u001b[0mlist\u001b[0m\u001b[0;34m(\u001b[0m\u001b[0;34m)\u001b[0m\u001b[0;34m\u001b[0m\u001b[0;34m\u001b[0m\u001b[0m\n\u001b[0;32m----> 3\u001b[0;31m     \u001b[0;32mfor\u001b[0m \u001b[0mi\u001b[0m\u001b[0;34m,\u001b[0m \u001b[0midx\u001b[0m \u001b[0;32min\u001b[0m \u001b[0mvectorizer\u001b[0m\u001b[0;34m.\u001b[0m\u001b[0mvocabulary_\u001b[0m\u001b[0;34m.\u001b[0m\u001b[0mitems\u001b[0m\u001b[0;34m(\u001b[0m\u001b[0;34m)\u001b[0m\u001b[0;34m:\u001b[0m\u001b[0;34m\u001b[0m\u001b[0;34m\u001b[0m\u001b[0m\n\u001b[0m\u001b[1;32m      4\u001b[0m         \u001b[0mi\u001b[0m \u001b[0;34m=\u001b[0m \u001b[0mi\u001b[0m\u001b[0;34m.\u001b[0m\u001b[0msplit\u001b[0m\u001b[0;34m(\u001b[0m\u001b[0;34m)\u001b[0m\u001b[0;34m\u001b[0m\u001b[0;34m\u001b[0m\u001b[0m\n\u001b[1;32m      5\u001b[0m         \u001b[0;32mif\u001b[0m \u001b[0mi\u001b[0m\u001b[0;34m[\u001b[0m\u001b[0;36m2\u001b[0m\u001b[0;34m]\u001b[0m \u001b[0;34m==\u001b[0m \u001b[0mterm\u001b[0m\u001b[0;34m:\u001b[0m\u001b[0;34m\u001b[0m\u001b[0;34m\u001b[0m\u001b[0m\n",
      "\u001b[0;31mNameError\u001b[0m: name 'vectorizer' is not defined"
     ]
    }
   ],
   "source": [
    "#\n",
    "# DEFINE term of interest\n",
    "# \n",
    "# we'll search for five-grams with this word as the center word:\n",
    "# [term1,term2,key_term,term4,term5]\n",
    "\n",
    "key_term = \"elect\"\n",
    "\n",
    "### for loop goes here\n",
    "print(\" extracting five-gram terms...\")\n",
    "terms = extract_five_grams(\"elect\")\n",
    "five_gram_data[labels[i]] = terms"
   ]
  },
  {
   "cell_type": "code",
   "execution_count": 10,
   "metadata": {},
   "outputs": [],
   "source": [
    "# now collect frequencies\n",
    "year_frequencies = dict()\n",
    "for y in five_gram_data:\n",
    "    t = list()\n",
    "    w = set(five_gram_data[y])\n",
    "    for i in w:\n",
    "        t.append([i,five_gram_data[y].count(i)])\n",
    "    year_frequencies[y] = t"
   ]
  },
  {
   "cell_type": "code",
   "execution_count": null,
   "metadata": {
    "collapsed": true
   },
   "outputs": [],
   "source": [
    "def graph_year(key_term,year):\n",
    "    G = nx.Graph()\n",
    "    node_list = list()\n",
    "    labels=dict()\n",
    "\n",
    "    # ensure that we have our key term\n",
    "    labels[key_term] = key_term\n",
    "    G.add_node(key_term)\n",
    "    \n",
    "    center_term = dict()\n",
    "    center_term[key_term] = (0,-20)\n",
    "    \n",
    "    for t, w in sorted(year_frequencies[year], key=lambda x: x[1], reverse=True)[:15]:\n",
    "        G.add_node(t)\n",
    "        node_list.append(t)\n",
    "        G.add_edge(key_term,t,weight=w)\n",
    "        labels[t] = t\n",
    "   \n",
    "    plt.figure(figsize=(15,12))   \n",
    "    pos=nx.spring_layout(G,scale=2,k=10,pos=center_term,fixed=center_term)\n",
    "    nx.draw_networkx_nodes(G,pos,node_color='lightblue',node_size=1500)\n",
    "    nx.draw_networkx_labels(G,pos,labels,font_size=10)\n",
    "\n",
    "    all_weights = []\n",
    "    for (node1,node2,data) in G.edges(data=True):\n",
    "        all_weights.append(data['weight'])\n",
    "    unique_weights = list(set(all_weights))\n",
    "\n",
    "    for weight in unique_weights:\n",
    "        weighted_edges = [(node1,node2) for (node1,node2,edge_attr) in G.edges(data=True) \n",
    "                          if edge_attr['weight']==weight]\n",
    "        width = weight*len(node_list)*3.0/sum(all_weights)\n",
    "        nx.draw_networkx_edges(G,pos,edgelist=weighted_edges,width=width)\n",
    "    plt.show()"
   ]
  },
  {
   "cell_type": "code",
   "execution_count": null,
   "metadata": {},
   "outputs": [],
   "source": [
    "graph_year(\"elect\",\"1546\")"
   ]
  },
  {
   "cell_type": "code",
   "execution_count": null,
   "metadata": {},
   "outputs": [],
   "source": [
    "graph_year(\"elect\",\"1600\")"
   ]
  },
  {
   "cell_type": "code",
   "execution_count": null,
   "metadata": {},
   "outputs": [],
   "source": [
    "graph_year(\"elect\",\"1620\")"
   ]
  },
  {
   "cell_type": "code",
   "execution_count": null,
   "metadata": {},
   "outputs": [],
   "source": [
    "graph_year(\"elect\",\"1600\")"
   ]
  }
 ],
 "metadata": {
  "kernelspec": {
   "display_name": "Python 3",
   "language": "python",
   "name": "python3"
  },
  "language_info": {
   "codemirror_mode": {
    "name": "ipython",
    "version": 3
   },
   "file_extension": ".py",
   "mimetype": "text/x-python",
   "name": "python",
   "nbconvert_exporter": "python",
   "pygments_lexer": "ipython3",
   "version": "3.7.3"
  }
 },
 "nbformat": 4,
 "nbformat_minor": 2
}
