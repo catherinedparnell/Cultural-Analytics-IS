{
 "cells": [
  {
   "cell_type": "code",
   "execution_count": 2,
   "metadata": {
    "scrolled": true
   },
   "outputs": [],
   "source": [
    "#!/usr/bin/env python\n",
    "# coding: utf-8\n",
    "\n",
    "import os, sys\n",
    "from glob import glob\n",
    "\n",
    "# core nltk\n",
    "import nltk\n",
    "from nltk.tokenize import word_tokenize\n",
    "\n",
    "# gensim magic\n",
    "import gensim\n",
    "from gensim.test.utils import get_tmpfile\n",
    "from gensim.models import KeyedVectors\n",
    "\n",
    "import numpy as np\n",
    "\n",
    "import matplotlib.pyplot as plt\n",
    "%matplotlib inline\n",
    "\n",
    "from ipywidgets import interact, interactive, fixed, interact_manual\n",
    "import ipywidgets as widgets\n",
    "\n",
    "\n",
    "# for PCA\n",
    "from sklearn.decomposition import PCA"
   ]
  },
  {
   "cell_type": "code",
   "execution_count": 3,
   "metadata": {},
   "outputs": [],
   "source": [
    "def scatter_terms(term1,term2,model_name):\n",
    "    terms = [term1,term2]\n",
    "    model = eebo_models[model_name]\n",
    "    tdata=dict()\n",
    "    for t in terms:\n",
    "        tdata[t] = dict()\n",
    "        tdata[t]['response'] = model.most_similar(t,topn=25)\n",
    "        tdata[t]['neighbor_list'] = list()\n",
    "        tdata[t]['words'] = list()\n",
    "\n",
    "        # add search term\n",
    "        tdata[t]['words'].append(t)\n",
    "        tdata[t]['neighbor_list'].append(model[t])\n",
    "\n",
    "        for i in tdata[t]['response']:\n",
    "            tdata[t]['words'].append(i[0])\n",
    "            tdata[t]['neighbor_list'].append(model[i[0]])\n",
    "            \n",
    "    tdata_labels=list()\n",
    "    tdata_neighbor_list=list()\n",
    "    tdata_words=list()\n",
    "    for t in sorted(tdata.keys()):\n",
    "        tdata_labels.append(t)\n",
    "        tdata_neighbor_list = tdata_neighbor_list + tdata[t]['neighbor_list']\n",
    "        tdata_words = tdata_words + (tdata[t]['words'])\n",
    "        \n",
    "    pca = PCA(n_components=2)\n",
    "\n",
    "    plot_data = pca.fit_transform(tdata_neighbor_list)\n",
    "    fig = plt.figure(figsize=(20, 15))\n",
    "\n",
    "    xs = plot_data[:, 0]\n",
    "    ys = plot_data[:, 1]\n",
    "    plt.clf()\n",
    "\n",
    "    # plot first word in red\n",
    "    plt.scatter(plot_data[:26, 0], plot_data[:26, 1], marker = 'o', c=\"red\")\n",
    "\n",
    "    # plot first word in blue\n",
    "    plt.scatter(plot_data[27:, 0], plot_data[27:, 1], marker = 'o', c=\"blue\")\n",
    "    plt.title(\"terms: {0},{1} ({2})\".format(term1,term2,model_name))\n",
    "              \n",
    "    for i, w in enumerate(tdata_words):\n",
    "        plt.annotate(w, xy = (xs[i], ys[i]), xytext = (3, 3),\n",
    "        textcoords = 'offset points', ha = 'left', va = 'top')\n",
    "    plt.show()"
   ]
  },
  {
   "cell_type": "code",
   "execution_count": 4,
   "metadata": {},
   "outputs": [
    {
     "name": "stdout",
     "output_type": "stream",
     "text": [
      "starting: eebo-1520-1529\n",
      "starting: eebo-1530-1539\n",
      "starting: eebo-1540-1549\n",
      "starting: eebo-1550-1559\n",
      "starting: eebo-1560-1569\n",
      "starting: eebo-1570-1579\n",
      "starting: eebo-1580-1589\n",
      "starting: eebo-1590-1599\n",
      "starting: eebo-1600-1609\n",
      "starting: eebo-1610-1619\n",
      "starting: eebo-1620-1629\n",
      "starting: eebo-1630-1639\n"
     ]
    }
   ],
   "source": [
    "# load saved models\n",
    "eebo_models = dict()\n",
    "input_data = [\"../models/eebo-1520-1529.w2v\",\n",
    "              \"../models/eebo-1530-1539.w2v\",\n",
    "              \"../models/eebo-1540-1549.w2v\",\n",
    "              \"../models/eebo-1550-1559.w2v\",\n",
    "              \"../models/eebo-1560-1569.w2v\",\n",
    "              \"../models/eebo-1570-1579.w2v\",\n",
    "              \"../models/eebo-1580-1589.w2v\",\n",
    "              \"../models/eebo-1590-1599.w2v\",\n",
    "              \"../models/eebo-1600-1609.w2v\",\n",
    "              \"../models/eebo-1610-1619.w2v\",\n",
    "              \"../models/eebo-1620-1629.w2v\",\n",
    "              \"../models/eebo-1630-1639.w2v\"]\n",
    "\n",
    "for fp in input_data:\n",
    "    \n",
    "    model_name = os.path.basename(fp).split(\".\")[0]\n",
    "    print(\"starting: {0}\".format(model_name))\n",
    "    eebo_models[model_name] = KeyedVectors.load(fp,mmap='r')"
   ]
  },
  {
   "cell_type": "code",
   "execution_count": 5,
   "metadata": {
    "scrolled": false
   },
   "outputs": [
    {
     "data": {
      "application/vnd.jupyter.widget-view+json": {
       "model_id": "815c46f4fc2a409ab9c5925d2d5425ff",
       "version_major": 2,
       "version_minor": 0
      },
      "text/plain": [
       "interactive(children=(Text(value='reformation', description='term1'), Text(value='religion', description='term…"
      ]
     },
     "metadata": {},
     "output_type": "display_data"
    }
   ],
   "source": [
    "model_names = sorted(eebo_models.keys())\n",
    "sample_terms = [\"reformation\",\"religion\"]\n",
    "interact(scatter_terms, \n",
    "         term1=\"reformation\",\n",
    "         term2=\"religion\",\n",
    "         model_name=model_names);"
   ]
  },
  {
   "cell_type": "code",
   "execution_count": null,
   "metadata": {
    "collapsed": true
   },
   "outputs": [],
   "source": []
  }
 ],
 "metadata": {
  "kernelspec": {
   "display_name": "Python 3",
   "language": "python",
   "name": "python3"
  },
  "language_info": {
   "codemirror_mode": {
    "name": "ipython",
    "version": 3
   },
   "file_extension": ".py",
   "mimetype": "text/x-python",
   "name": "python",
   "nbconvert_exporter": "python",
   "pygments_lexer": "ipython3",
   "version": "3.7.4"
  },
  "widgets": {
   "state": {
    "8a6713fca27d4c6cb3bcd564b6d842b8": {
     "views": [
      {
       "cell_index": 3
      }
     ]
    }
   },
   "version": "1.2.0"
  }
 },
 "nbformat": 4,
 "nbformat_minor": 2
}
