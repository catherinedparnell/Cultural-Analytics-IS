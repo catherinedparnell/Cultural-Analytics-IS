{
 "cells": [
  {
   "cell_type": "code",
   "execution_count": 7,
   "metadata": {},
   "outputs": [
    {
     "name": "stderr",
     "output_type": "stream",
     "text": [
      "[nltk_data] Downloading package brown to\n",
      "[nltk_data]     /Users/catherineparnell/nltk_data...\n",
      "[nltk_data]   Unzipping corpora/brown.zip.\n"
     ]
    },
    {
     "data": {
      "text/plain": [
       "True"
      ]
     },
     "execution_count": 7,
     "metadata": {},
     "output_type": "execute_result"
    }
   ],
   "source": [
    "import csv\n",
    "import numpy as np\n",
    "from sklearn.feature_extraction.text import CountVectorizer\n",
    "import nltk\n",
    "from nltk.metrics import distance\n",
    "#nltk.download('brown')"
   ]
  },
  {
   "cell_type": "code",
   "execution_count": 8,
   "metadata": {},
   "outputs": [
    {
     "name": "stdout",
     "output_type": "stream",
     "text": [
      "read 46 lines\n"
     ]
    }
   ],
   "source": [
    "input_data = list()\n",
    "row_count = 0\n",
    "\n",
    "metadata=list()\n",
    "with open('../texts/textMetadata.csv', 'rt') as csvfile:\n",
    "    reader = csv.reader(csvfile)\n",
    "    for row in reader:\n",
    "        # deal with the header\n",
    "        if row_count != 0:\n",
    "            metadata.append(row)   \n",
    "        row_count += 1\n",
    "print(\"read\",row_count,\"lines\")"
   ]
  },
  {
   "cell_type": "code",
   "execution_count": 9,
   "metadata": {},
   "outputs": [],
   "source": [
    "labels = [i[4] for i in metadata]\n",
    "files = list()\n",
    "for i in metadata:\n",
    "    fn = \"../texts/\" + i[0]\n",
    "    files.append(fn)\n",
    "    \n",
    "vectorizer = CountVectorizer(\n",
    "    input='filename',\n",
    "    lowercase=True,\n",
    "    strip_accents=None)"
   ]
  },
  {
   "cell_type": "code",
   "execution_count": 10,
   "metadata": {},
   "outputs": [],
   "source": [
    "# get document term matrix (not using, just want vocabulary)\n",
    "dtm = vectorizer.fit_transform(files)"
   ]
  },
  {
   "cell_type": "code",
   "execution_count": 11,
   "metadata": {},
   "outputs": [],
   "source": [
    "vocab = vectorizer.vocabulary_\n",
    "lv = [x for x in vocab.keys()]"
   ]
  },
  {
   "cell_type": "code",
   "execution_count": 12,
   "metadata": {},
   "outputs": [],
   "source": [
    "# Brown Corpus is useful for part of speech tagging, etc but it has a bit list of words\n",
    "# extract just the unique word and give us lowercase words\n",
    "\n",
    "from nltk.corpus import brown\n",
    "brown_words = set(brown.words())\n",
    "brown_words = [w.lower() for w in brown_words]"
   ]
  },
  {
   "cell_type": "code",
   "execution_count": null,
   "metadata": {},
   "outputs": [],
   "source": [
    "# calculate Jaro-Winkler Similarity (cost to transform one string to another) for all words not in Brown\n",
    "# corpus and find closes match. To speed up, only match words that begin with the same letter.\n",
    "\n",
    "wnid=dict()\n",
    "for w in lv:\n",
    "    if w not in brown_words:\n",
    "        wnid[w] = list()\n",
    "        for j in brown_words:\n",
    "            if j[0] == w[0]:\n",
    "                d = distance.jaro_winkler_similarity(w,j)\n",
    "                if d > .85:\n",
    "                    wnid[w].append([j,d])"
   ]
  },
  {
   "cell_type": "code",
   "execution_count": null,
   "metadata": {},
   "outputs": [],
   "source": [
    "# create dictionary from the closest Brown corpus word\n",
    "custom_dictionary=dict()\n",
    "for word in wnid.keys():\n",
    "    if len(wnid[word]) > 0:\n",
    "        custom_dictionary[word] = sorted(wnid[word], key = lambda x: x[1], reverse=True)[0][0]   "
   ]
  },
  {
   "cell_type": "code",
   "execution_count": null,
   "metadata": {},
   "outputs": [],
   "source": [
    "# save dictionary\n",
    "import csv\n",
    "with open('../lexicons/custom_dictionary.csv', 'w', newline='') as file:\n",
    "        writer = csv.writer(file)\n",
    "        for i in custom_dictionary.keys():\n",
    "            writer.writerow([i,custom_dictionary[i]])"
   ]
  },
  {
   "cell_type": "code",
   "execution_count": null,
   "metadata": {},
   "outputs": [],
   "source": []
  },
  {
   "cell_type": "code",
   "execution_count": null,
   "metadata": {},
   "outputs": [],
   "source": []
  }
 ],
 "metadata": {
  "kernelspec": {
   "display_name": "Python 3",
   "language": "python",
   "name": "python3"
  },
  "language_info": {
   "codemirror_mode": {
    "name": "ipython",
    "version": 3
   },
   "file_extension": ".py",
   "mimetype": "text/x-python",
   "name": "python",
   "nbconvert_exporter": "python",
   "pygments_lexer": "ipython3",
   "version": "3.7.3"
  }
 },
 "nbformat": 4,
 "nbformat_minor": 2
}
