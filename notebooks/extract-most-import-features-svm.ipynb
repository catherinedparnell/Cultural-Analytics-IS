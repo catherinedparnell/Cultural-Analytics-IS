{
 "cells": [
  {
   "cell_type": "code",
   "execution_count": 145,
   "metadata": {},
   "outputs": [],
   "source": [
    "import csv\n",
    "import numpy as np\n",
    "\n",
    "from sklearn.feature_extraction.text import TfidfTransformer\n",
    "from sklearn.feature_extraction.text import CountVectorizer\n",
    "\n",
    "from sklearn.linear_model import SGDClassifier\n",
    "\n",
    "import matplotlib.pyplot as plt\n",
    "%matplotlib inline\n",
    "\n",
    "def spellProcessor(word):\n",
    "    word = word.lower()\n",
    "    word = word.replace(\"gyftis\", \"gifts\")\n",
    "    word = word.replace(\"gether\", \"gather\")\n",
    "    word = word.replace(\"spirituall\", \"spiritual\")\n",
    "    word = word.replace(\"feythfull\", \"faith\")\n",
    "    word = word.replace(\"wytnes\", \"witness\")\n",
    "    word = word.replace(\"almes\", \"alms\")\n",
    "    word = word.replace(\"desyre\", \"desire\")\n",
    "    word = word.replace(\"selfe\", \"self\")\n",
    "    word = word.replace(\"saffely\", \"safely\")\n",
    "    word = word.replace(\"realme\", \"realm\")\n",
    "    word = word.replace(\"acte\", \"act\")\n",
    "    word = word.replace(\"fourme\", \"form\")\n",
    "    word = word.replace(\"subiectes\", \"subjects\")\n",
    "    word = word.replace(\"theyr\", \"their\")\n",
    "    word = word.replace(\"kynde\", \"kind\")\n",
    "    word = word.replace(\"kynge\", \"king\")\n",
    "    word = word.replace(\"kyndes\", \"kinds\")\n",
    "    word = word.replace(\"vpon\", \"unto\")\n",
    "    word = word.replace(\"purueyours\", \"purveyors\")\n",
    "    word = word.replace(\"highnes\", \"highness\")\n",
    "    word = word.replace(\"euery\", \"every\")\n",
    "    word = word.replace(\"quene\", \"queen\")\n",
    "    word = word.replace(\"quenes\", \"queens\")\n",
    "    word = word.replace(\"whiche\", \"which\")\n",
    "    word = word.replace(\"bloude\", \"blood\")\n",
    "    word = word.replace(\"soueraine\", \"sovereign\")\n",
    "    word = word.replace(\"enactd\", \"enacted\")\n",
    "    word = word.replace(\"vs\", \"us\")\n",
    "    return word\n",
    "\n",
    "stopWords = [\",\",\"the\",\"and\",\"of\",\"or\",\"to\",\"in\",\"shall\",\"be\",\"that\",\"any\",\"by\",\".\",\n",
    "              \"such\",\"as\",\"this\",\"for\",\"same\",\"all\",\"said\",\"other\",\"'s\",\";\",\n",
    "              \"her\",\"is\",\"every\",\"[\",\"]\",\"they\",\"within\", \"our\", \"not\", \"so\",\n",
    "              \"made\", \"no\", \"then\", \":\", \"do\", \"from\", \"if\", \"it\", \"which\", \"at\", \"with\",\n",
    "             \"thereof\",\"upon\", \"a\", \"because\", \"used\", \"some\", \"but\", \"aforesaid\", \"also\",\n",
    "             \")\",\"(\", \"what\", \"&\", \"may\", \"are\", \"their\", \"them\", \"sayde\", \"suche\", \"shalbe\", \"anye\", \"sayd\",\n",
    "             \"thesaid\", \"/\", \"...\", \"/\", \"either\", \"haue\", \"vnto\", \"thy\", \"did\", \"was\", \"were\", \"have\", \"thee\", \n",
    "             \"your\", \"thou\", \"unto\", \"11\", \"hath\", \"had\", \"went\", \"10\"]"
   ]
  },
  {
   "cell_type": "code",
   "execution_count": 146,
   "metadata": {},
   "outputs": [
    {
     "name": "stdout",
     "output_type": "stream",
     "text": [
      "read 30 lines\n"
     ]
    }
   ],
   "source": [
    "input_data = list()\n",
    "row_count = 0\n",
    "\n",
    "metadata=list()\n",
    "with open('../texts/textMetadata.csv', 'rt') as csvfile:\n",
    "    reader = csv.reader(csvfile)\n",
    "    for row in reader:\n",
    "        # deal with the header\n",
    "        if row_count != 0:\n",
    "            metadata.append(row)   \n",
    "        row_count += 1\n",
    "print(\"read\",row_count,\"lines\")"
   ]
  },
  {
   "cell_type": "code",
   "execution_count": 147,
   "metadata": {},
   "outputs": [
    {
     "data": {
      "text/plain": [
       "['crown/RoyalProclamation_HenryVIII_1520.txt',\n",
       " 'Royal Proclamation',\n",
       " '1520',\n",
       " 'Henry VIII',\n",
       " 'Crown']"
      ]
     },
     "execution_count": 147,
     "metadata": {},
     "output_type": "execute_result"
    }
   ],
   "source": [
    "metadata[0]"
   ]
  },
  {
   "cell_type": "code",
   "execution_count": 148,
   "metadata": {},
   "outputs": [],
   "source": [
    "labels = [i[4] for i in metadata]\n",
    "files = list()\n",
    "for i in metadata:\n",
    "    fn = \"../texts/\" + i[0]\n",
    "    files.append(fn)\n",
    "    \n",
    "vectorizer = CountVectorizer(\n",
    "    input='filename',\n",
    "    lowercase=True,\n",
    "    ngram_range=(1,3),\n",
    "    strip_accents=None, preprocessor=spellProcessor, stop_words=stopWords)"
   ]
  },
  {
   "cell_type": "code",
   "execution_count": 149,
   "metadata": {},
   "outputs": [],
   "source": [
    "# get document term matrix\n",
    "dtm = vectorizer.fit_transform(files)\n",
    "\n",
    "# convert to tf-idf frequencies (to account for differences in text lengths)\n",
    "tfidf_transformer = TfidfTransformer()\n",
    "dtm_tfidf = tfidf_transformer.fit_transform(dtm)"
   ]
  },
  {
   "cell_type": "code",
   "execution_count": 150,
   "metadata": {},
   "outputs": [
    {
     "name": "stdout",
     "output_type": "stream",
     "text": [
      "Class: Crown, Documents: 25\n",
      "Class: Church, Documents: 4\n"
     ]
    }
   ],
   "source": [
    "# attempt to deal with imbalanced dataset\n",
    "\n",
    "for c in set(labels):\n",
    "    print(\"Class: {0}, Documents: {1}\".format(c,labels.count(c)))\n",
    "\n",
    "from sklearn.utils.class_weight import compute_class_weight\n",
    "class_weights = compute_class_weight('balanced',\n",
    "                                     np.unique(labels),\n",
    "                                     labels)"
   ]
  },
  {
   "cell_type": "code",
   "execution_count": 151,
   "metadata": {},
   "outputs": [],
   "source": [
    "# create and fit model using Support Vector Machine (SVM)\n",
    "clf = SGDClassifier(tol=None,class_weight=\"balanced\",max_iter=1000).fit(dtm_tfidf, labels)"
   ]
  },
  {
   "cell_type": "code",
   "execution_count": 152,
   "metadata": {},
   "outputs": [],
   "source": [
    "# this function will return total count of a term in the vocabulary\n",
    "def get_counts(term):\n",
    "    widx = vectorizer.vocabulary_[term]\n",
    "    return(vocab_sums[0,widx])"
   ]
  },
  {
   "cell_type": "code",
   "execution_count": 153,
   "metadata": {},
   "outputs": [
    {
     "name": "stdout",
     "output_type": "stream",
     "text": [
      "his -> 10341\n",
      "lord -> 8823\n",
      "him -> 8026\n",
      "god -> 5120\n",
      "my -> 4875\n",
      "me -> 4539\n",
      "will -> 4437\n",
      "ye -> 4320\n",
      "when -> 3506\n",
      "man -> 3274\n",
      "king -> 3255\n",
      "out -> 3238\n",
      "you -> 2859\n",
      "there -> 2817\n",
      "israel -> 2807\n",
      "up -> 2804\n",
      "son -> 2709\n",
      "people -> 2605\n",
      "into -> 2447\n"
     ]
    }
   ],
   "source": [
    "# what are our top terms?\n",
    "vocab_sums = dtm.sum(axis=0)\n",
    "sorted_vocab = [(v, vocab_sums[0, i]) for v, i in vectorizer.vocabulary_.items()]\n",
    "sorted_vocab = sorted(sorted_vocab, key = lambda x: x[1], reverse=True)\n",
    "\n",
    "# display top twenty words\n",
    "for i in range(1,20):\n",
    "    print(sorted_vocab[i][0],\"->\",sorted_vocab[i][1])"
   ]
  },
  {
   "cell_type": "code",
   "execution_count": 154,
   "metadata": {},
   "outputs": [
    {
     "name": "stdout",
     "output_type": "stream",
     "text": [
      "Key features for Church:\n",
      "him (1.229), he (1.057), lord (0.602), priest (0.554), son (0.541), john (0.486), procession (0.462), cross (0.449), me (0.408), christ (0.394), jesus (0.376), sing (0.371), my (0.364), holy (0.36), us (0.347), jesus christ (0.346), singing (0.307), when (0.283), sins (0.28), who (0.261), she (0.252), church yard (0.251), sing procession (0.251), lacey (0.251), yard (0.251), john lacey (0.251), about church yard (0.251), father (0.241), world (0.231), answer him (0.225), saying (0.222), about church (0.218), about (0.213), came (0.206), his (0.206), christ lord (0.202), stayed (0.194), clerks (0.194), give (0.193), answer (0.192), heaven (0.192), say (0.191), communion (0.191), israel (0.188), amen (0.185), man (0.185), up (0.182), through (0.18), grace (0.177), commandment (0.177), "
     ]
    }
   ],
   "source": [
    "feature_names = vectorizer.get_feature_names()\n",
    "terms = np.argsort(clf.coef_[0])\n",
    "values = clf.coef_.ravel()[np.argsort(clf.coef_.ravel())]\n",
    "print(\"Key features for {}:\".format(clf.classes_[0]))\n",
    "word_cloud_data = list()\n",
    "for i, t in enumerate(terms):\n",
    "    # reverse sign\n",
    "    v = -np.round(values[i],3)\n",
    "    word_cloud_data.append((feature_names[t],v))\n",
    "    if i < 50:\n",
    "        print(\"{0} ({1})\".format(feature_names[t],v),end=\", \")"
   ]
  },
  {
   "cell_type": "code",
   "execution_count": 155,
   "metadata": {},
   "outputs": [],
   "source": [
    "# reduce data\n",
    "viz_words = word_cloud_data[:25]+ word_cloud_data[-25:]"
   ]
  },
  {
   "cell_type": "code",
   "execution_count": 156,
   "metadata": {},
   "outputs": [
    {
     "data": {
      "image/png": "[encoded data removed]",
      "text/plain": [
       "<Figure size 2625x1500 with 1 Axes>"
      ]
     },
     "metadata": {
      "needs_background": "light"
     },
     "output_type": "display_data"
    }
   ],
   "source": [
    "values = [x[1] for x in viz_words]\n",
    "kwords = [x[0] for x in viz_words]\n",
    "y_pos = range(len(values))\n",
    "\n",
    "#fig, ax = plt.subplots()\n",
    "fig = plt.figure(figsize=(35, 20), dpi=75)\n",
    "plt.barh(y_pos, values, align='center',tick_label=kwords,color=\"red\")\n",
    "plt.title(\"Key Features\")\n",
    "plt.xlabel(\"Negative: Crown, Positive: Church\")\n",
    "plt.show()"
   ]
  },
  {
   "cell_type": "code",
   "execution_count": 144,
   "metadata": {},
   "outputs": [
    {
     "ename": "AttributeError",
     "evalue": "'list' object has no attribute 'items'",
     "output_type": "error",
     "traceback": [
      "\u001b[0;31m---------------------------------------------------------------------------\u001b[0m",
      "\u001b[0;31mAttributeError\u001b[0m                            Traceback (most recent call last)",
      "\u001b[0;32m<ipython-input-144-b09f07953c87>\u001b[0m in \u001b[0;36m<module>\u001b[0;34m\u001b[0m\n\u001b[1;32m      4\u001b[0m \u001b[0mfig\u001b[0m \u001b[0;34m=\u001b[0m \u001b[0mplt\u001b[0m\u001b[0;34m.\u001b[0m\u001b[0mfigure\u001b[0m\u001b[0;34m(\u001b[0m\u001b[0mfigsize\u001b[0m\u001b[0;34m=\u001b[0m\u001b[0;34m(\u001b[0m\u001b[0;36m35\u001b[0m\u001b[0;34m,\u001b[0m \u001b[0;36m20\u001b[0m\u001b[0;34m)\u001b[0m\u001b[0;34m,\u001b[0m \u001b[0mdpi\u001b[0m\u001b[0;34m=\u001b[0m\u001b[0;36m75\u001b[0m\u001b[0;34m)\u001b[0m\u001b[0;34m\u001b[0m\u001b[0;34m\u001b[0m\u001b[0m\n\u001b[1;32m      5\u001b[0m wordcloud = WordCloud(width=900,height=500, max_words=1000,\n\u001b[0;32m----> 6\u001b[0;31m                       relative_scaling=1).generate_from_frequencies(word_cloud_data)\n\u001b[0m\u001b[1;32m      7\u001b[0m \u001b[0mplt\u001b[0m\u001b[0;34m.\u001b[0m\u001b[0mimshow\u001b[0m\u001b[0;34m(\u001b[0m\u001b[0mwordcloud\u001b[0m\u001b[0;34m,\u001b[0m \u001b[0minterpolation\u001b[0m\u001b[0;34m=\u001b[0m\u001b[0;34m'bilinear'\u001b[0m\u001b[0;34m)\u001b[0m\u001b[0;34m\u001b[0m\u001b[0;34m\u001b[0m\u001b[0m\n\u001b[1;32m      8\u001b[0m \u001b[0mplt\u001b[0m\u001b[0;34m.\u001b[0m\u001b[0maxis\u001b[0m\u001b[0;34m(\u001b[0m\u001b[0;34m\"off\"\u001b[0m\u001b[0;34m)\u001b[0m\u001b[0;34m\u001b[0m\u001b[0;34m\u001b[0m\u001b[0m\n",
      "\u001b[0;32m//anaconda3/lib/python3.7/site-packages/wordcloud/wordcloud.py\u001b[0m in \u001b[0;36mgenerate_from_frequencies\u001b[0;34m(self, frequencies, max_font_size)\u001b[0m\n\u001b[1;32m    378\u001b[0m         \"\"\"\n\u001b[1;32m    379\u001b[0m         \u001b[0;31m# make sure frequencies are sorted and normalized\u001b[0m\u001b[0;34m\u001b[0m\u001b[0;34m\u001b[0m\u001b[0;34m\u001b[0m\u001b[0m\n\u001b[0;32m--> 380\u001b[0;31m         \u001b[0mfrequencies\u001b[0m \u001b[0;34m=\u001b[0m \u001b[0msorted\u001b[0m\u001b[0;34m(\u001b[0m\u001b[0mfrequencies\u001b[0m\u001b[0;34m.\u001b[0m\u001b[0mitems\u001b[0m\u001b[0;34m(\u001b[0m\u001b[0;34m)\u001b[0m\u001b[0;34m,\u001b[0m \u001b[0mkey\u001b[0m\u001b[0;34m=\u001b[0m\u001b[0mitemgetter\u001b[0m\u001b[0;34m(\u001b[0m\u001b[0;36m1\u001b[0m\u001b[0;34m)\u001b[0m\u001b[0;34m,\u001b[0m \u001b[0mreverse\u001b[0m\u001b[0;34m=\u001b[0m\u001b[0;32mTrue\u001b[0m\u001b[0;34m)\u001b[0m\u001b[0;34m\u001b[0m\u001b[0;34m\u001b[0m\u001b[0m\n\u001b[0m\u001b[1;32m    381\u001b[0m         \u001b[0;32mif\u001b[0m \u001b[0mlen\u001b[0m\u001b[0;34m(\u001b[0m\u001b[0mfrequencies\u001b[0m\u001b[0;34m)\u001b[0m \u001b[0;34m<=\u001b[0m \u001b[0;36m0\u001b[0m\u001b[0;34m:\u001b[0m\u001b[0;34m\u001b[0m\u001b[0;34m\u001b[0m\u001b[0m\n\u001b[1;32m    382\u001b[0m             raise ValueError(\"We need at least 1 word to plot a word cloud, \"\n",
      "\u001b[0;31mAttributeError\u001b[0m: 'list' object has no attribute 'items'"
     ]
    },
    {
     "data": {
      "text/plain": [
       "<Figure size 2625x1500 with 0 Axes>"
      ]
     },
     "metadata": {},
     "output_type": "display_data"
    }
   ],
   "source": [
    "from wordcloud import WordCloud\n",
    "\n",
    "# show most important features for classification of class Church\n",
    "fig = plt.figure(figsize=(35, 20), dpi=75)\n",
    "wordcloud = WordCloud(width=900,height=500, max_words=1000,\n",
    "                      relative_scaling=1).generate_from_frequencies(word_cloud_data)\n",
    "plt.imshow(wordcloud, interpolation='bilinear')\n",
    "plt.axis(\"off\")\n",
    "plt.show()"
   ]
  },
  {
   "cell_type": "markdown",
   "metadata": {
    "collapsed": true
   },
   "source": [
    "### "
   ]
  }
 ],
 "metadata": {
  "kernelspec": {
   "display_name": "Python 3",
   "language": "python",
   "name": "python3"
  },
  "language_info": {
   "codemirror_mode": {
    "name": "ipython",
    "version": 3
   },
   "file_extension": ".py",
   "mimetype": "text/x-python",
   "name": "python",
   "nbconvert_exporter": "python",
   "pygments_lexer": "ipython3",
   "version": "3.7.3"
  }
 },
 "nbformat": 4,
 "nbformat_minor": 2
}
