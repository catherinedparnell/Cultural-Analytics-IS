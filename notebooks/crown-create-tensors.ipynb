{
 "cells": [
  {
   "cell_type": "code",
   "execution_count": 1,
   "metadata": {
    "collapsed": false
   },
   "outputs": [
    {
     "name": "stdout",
     "output_type": "stream",
     "text": [
      "starting: crown-henry\n",
      "starting: crown-edward\n",
      "starting: crown-mary\n",
      "starting: crown-elizabeth\n",
      "starting: crown-james\n",
      "starting: crown-charles\n"
     ]
    }
   ],
   "source": [
    "# create tensor files\n",
    "# uses the entire vocabulary\n",
    "\n",
    "import os, sys\n",
    "import gensim\n",
    "from gensim.models import KeyedVectors\n",
    "\n",
    "crown_models=list()\n",
    "input_data = [\"../models/crown-henry.w2v\",\n",
    "              \"../models/crown-edward.w2v\",\n",
    "              \"../models/crown-mary.w2v\",\n",
    "              \"../models/crown-elizabeth.w2v\",\n",
    "              \"../models/crown-james.w2v\",\n",
    "              \"../models/crown-charles.w2v\"]\n",
    "\n",
    "for fp in input_data:\n",
    "    \n",
    "    model_name = os.path.basename(fp).split(\".\")[0]\n",
    "    print(\"starting: {0}\".format(model_name))\n",
    "    crown_models.append([model_name,KeyedVectors.load(fp,mmap='r')])"
   ]
  },
  {
   "cell_type": "code",
   "execution_count": 3,
   "metadata": {
    "collapsed": false
   },
   "outputs": [
    {
     "name": "stdout",
     "output_type": "stream",
     "text": [
      "crown-henry\n",
      "crown-edward\n",
      "crown-mary\n",
      "crown-elizabeth\n",
      "crown-james\n",
      "crown-charles\n"
     ]
    }
   ],
   "source": [
    "outfilejson = \"../tensors/crown_tensors_all.json\"\n",
    "\n",
    "json_data = dict()\n",
    "json_data['embeddings'] = list()\n",
    "\n",
    "# add entire model\n",
    "for model in crown_models:\n",
    "    print(model[0])\n",
    "    \n",
    "    tensor_filename = \"../tensors/\" + model[0] \n",
    "    outfiletsv = tensor_filename + '_tensor.tsv'\n",
    "    outfiletsvmeta = tensor_filename + '_metadata.tsv'\n",
    "\n",
    "    vocab = model[1].vocab\n",
    "    \n",
    "    with open(outfiletsv, 'wt') as file_vector:\n",
    "        with open(outfiletsvmeta, 'wt',encoding='utf-8') as file_metadata:\n",
    "            for word in vocab:\n",
    "                file_metadata.write(word + '\\n')\n",
    "                vector_row = '\\t'.join(str(x) for x in model[1][word])\n",
    "                file_vector.write(vector_row + '\\n')\n",
    "                \n",
    "    shape = [1000,50]\n",
    "    json_data['embeddings'].append({\n",
    "        'tensorName': str(model[0]),\n",
    "        'tensorPath': 'https://raw.githubusercontent.com/catherinedparnell/Cultural-Analytics-IS/master/tensors/' + str(model[0]) + '_tensor.tsv',\n",
    "        'metadataPath': 'https://raw.githubusercontent.com/catherinedparnell/Cultural-Analytics-IS/master/tensors/' + str(model[0]) + '_metadata.tsv',\n",
    "        'tensorShape' : shape\n",
    "    })\n",
    "                "
   ]
  },
  {
   "cell_type": "code",
   "execution_count": 4,
   "metadata": {
    "collapsed": true
   },
   "outputs": [],
   "source": [
    "# write json file\n",
    "import json\n",
    "with open(outfilejson, 'wt') as fp:\n",
    "    json.dump(json_data, fp)"
   ]
  },
  {
   "cell_type": "code",
   "execution_count": null,
   "metadata": {
    "collapsed": true
   },
   "outputs": [],
   "source": []
  }
 ],
 "metadata": {
  "kernelspec": {
   "display_name": "Python 3",
   "language": "python",
   "name": "python3"
  },
  "language_info": {
   "codemirror_mode": {
    "name": "ipython",
    "version": 3
   },
   "file_extension": ".py",
   "mimetype": "text/x-python",
   "name": "python",
   "nbconvert_exporter": "python",
   "pygments_lexer": "ipython3",
   "version": "3.5.9"
  }
 },
 "nbformat": 4,
 "nbformat_minor": 2
}
