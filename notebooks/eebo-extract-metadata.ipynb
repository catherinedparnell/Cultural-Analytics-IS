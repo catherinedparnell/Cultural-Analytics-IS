{
 "cells": [
  {
   "cell_type": "code",
   "execution_count": null,
   "metadata": {
    "collapsed": false
   },
   "outputs": [],
   "source": [
    "import os, sys\n",
    "import nltk\n",
    "import sklearn\n",
    "from lxml import etree\n",
    "\n",
    "# define period boundaries\n",
    "date_min = 1520\n",
    "date_max = 1640\n",
    "\n",
    "# search EEBO TCP texts for texts published between period markers\n",
    "metadata=list()\n",
    "   \n",
    "eebo_root=\"/Users/jed/Projects/mmlec/eebo-tcp/eebo-tcp-A\"\n",
    "all_text = list()\n",
    "\n",
    "for text in os.listdir(eebo_root):\n",
    "        path = eebo_root + \"/\" + text\n",
    "        xml_object = etree.parse(path)\n",
    "        pubdate = xml_object.findall(\".//{http://www.tei-c.org/ns/1.0}date\")[0]\n",
    "        \n",
    "        # extract date text\n",
    "        pubdate = pubdate.xpath(\"text()\")[0]\n",
    "        \n",
    "        # keep if four digits, convert to int\n",
    "        if len(pubdate) == 4:\n",
    "            try:\n",
    "                pubdate = int(pubdate)\n",
    "            except:\n",
    "                continue\n",
    "        else:\n",
    "            continue\n",
    "        \n",
    "        if pubdate > date_min and pubdate < date_max:\n",
    "            \n",
    "            # check for language and keep only English\n",
    "            if xml_object.findall(\".//{http://www.tei-c.org/ns/1.0}language\")[0].xpath(\"text()\")[0] == \"eng\":\n",
    "                \n",
    "                # extract author and title\n",
    "                try:\n",
    "                    author = xml_object.findall(\".//{http://www.tei-c.org/ns/1.0}author\")[0].xpath(\"text()\")[0]\n",
    "                except:\n",
    "                    author = \"N/A\"\n",
    "                \n",
    "                try:\n",
    "                    title = xml_object.findall(\".//{http://www.tei-c.org/ns/1.0}title\")[0].xpath(\"text()\")[0]\n",
    "                except:\n",
    "                    title = \"N/A\"\n",
    "                # add to metadata\n",
    "                metadata.append([pubdate,author,title,text])\n",
    "            "
   ]
  },
  {
   "cell_type": "code",
   "execution_count": null,
   "metadata": {
    "collapsed": false
   },
   "outputs": [],
   "source": [
    "import csv\n",
    "with open('metadata-eebo-selected.csv', 'w', newline='') as file:\n",
    "    writer = csv.writer(file)\n",
    "    writer.writerow([\"pubdate\", \"author\", \"title\",\"filename\"])\n",
    "    for i in metadata:\n",
    "        writer.writerow(i)"
   ]
  }
 ],
 "metadata": {
  "kernelspec": {
   "display_name": "Python 3",
   "language": "python",
   "name": "python3"
  },
  "language_info": {
   "codemirror_mode": {
    "name": "ipython",
    "version": 3
   },
   "file_extension": ".py",
   "mimetype": "text/x-python",
   "name": "python",
   "nbconvert_exporter": "python",
   "pygments_lexer": "ipython3",
   "version": "3.5.9"
  }
 },
 "nbformat": 4,
 "nbformat_minor": 2
}
