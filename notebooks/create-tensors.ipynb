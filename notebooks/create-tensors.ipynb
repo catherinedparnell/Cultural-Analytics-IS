{
 "cells": [
  {
   "cell_type": "code",
   "execution_count": 1,
   "metadata": {
    "collapsed": false
   },
   "outputs": [
    {
     "name": "stdout",
     "output_type": "stream",
     "text": [
      "starting: eebo-henry_VII\n",
      "starting: eebo-henry_VIII\n",
      "starting: eebo-edward_VI\n",
      "starting: eebo-mary_I\n",
      "starting: eebo-elizabeth_I\n",
      "starting: eebo-james_I\n",
      "starting: eebo-charles_I\n",
      "starting: eebo-charles_II\n",
      "starting: eebo-oliver_cromwell\n"
     ]
    }
   ],
   "source": [
    "# create tensor files\n",
    "import os, sys\n",
    "import gensim\n",
    "from gensim.models import KeyedVectors\n",
    "\n",
    "eebo_models=list()\n",
    "input_data = [\"../models/eebo-henry_VII.w2v\",\n",
    "              \"../models/eebo-henry_VIII.w2v\",\n",
    "              \"../models/eebo-edward_VI.w2v\",\n",
    "              \"../models/eebo-mary_I.w2v\",\n",
    "              \"../models/eebo-elizabeth_I.w2v\",\n",
    "              \"../models/eebo-james_I.w2v\",\n",
    "              \"../models/eebo-charles_I.w2v\",\n",
    "              \"../models/eebo-charles_II.w2v\",\n",
    "              \"../models/eebo-oliver_cromwell.w2v\"]\n",
    "\n",
    "for fp in input_data:\n",
    "    model_name = os.path.basename(fp).split(\".\")[0]\n",
    "    print(\"starting: {0}\".format(model_name))\n",
    "    eebo_models.append([model_name,KeyedVectors.load(fp,mmap='r')])"
   ]
  },
  {
   "cell_type": "code",
   "execution_count": 4,
   "metadata": {
    "collapsed": false
   },
   "outputs": [
    {
     "name": "stdout",
     "output_type": "stream",
     "text": [
      "eebo-henry_VII\n",
      "eebo-henry_VIII\n",
      "eebo-edward_VI\n",
      "eebo-mary_I\n",
      "eebo-elizabeth_I\n",
      "eebo-james_I\n",
      "eebo-charles_I\n",
      "eebo-charles_II\n",
      "eebo-oliver_cromwell\n"
     ]
    }
   ],
   "source": [
    "outfilejson = \"../tensors/tensors_all.json\"\n",
    "\n",
    "json_data = dict()\n",
    "json_data['embeddings'] = list()\n",
    "\n",
    "# limit model\n",
    "key_terms = [\"religion\",\"church\",\"self\",\"fate\",\"reformation\",\n",
    "             \"elect\",\"protestant\",\"chosen\",\"faith\",\n",
    "             \"predestination\"]\n",
    "\n",
    "for m in eebo_models:\n",
    "    print(m[0])\n",
    "    \n",
    "    tensor_filename = \"../tensors/\" + m[0] \n",
    "    outfiletsv = tensor_filename + '_tensor.tsv'\n",
    "    outfiletsvmeta = tensor_filename + '_metadata.tsv'\n",
    "    \n",
    "    vectors=list()\n",
    "    vocab=list()\n",
    "    for t in key_terms:\n",
    "        if t in m[1].vocab:\n",
    "            nn = [x[0] for x in m[1].most_similar(t,topn=100)]\n",
    "            for n in nn:\n",
    "                vocab.append(n)\n",
    "    vocab = set(vocab)\n",
    "    \n",
    "    with open(outfiletsv, 'wt') as file_vector:\n",
    "        with open(outfiletsvmeta, 'wt',encoding='utf-8') as file_metadata:\n",
    "            for word in vocab:\n",
    "                file_metadata.write(word + '\\n')\n",
    "                vector_row = '\\t'.join(str(x) for x in m[1][word])\n",
    "                file_vector.write(vector_row + '\\n')\n",
    "                \n",
    "    shape = [1000,50]\n",
    "    json_data['embeddings'].append({\n",
    "        'tensorName': str(m[0]),\n",
    "        'tensorPath': 'https://raw.githubusercontent.com/catherinedparnell/Cultural-Analytics-IS/master/tensors/' + m[0] + '_tensor.tsv',\n",
    "        'metadataPath': 'https://raw.githubusercontent.com/catherinedparnell/Cultural-Analytics-IS/master/tensors/' + m[0] + '_metadata.tsv',\n",
    "        'tensorShape' : shape\n",
    "    })\n",
    "                "
   ]
  },
  {
   "cell_type": "code",
   "execution_count": 5,
   "metadata": {
    "collapsed": false
   },
   "outputs": [],
   "source": [
    "import json\n",
    "with open(outfilejson, 'wt') as fp:\n",
    "    json.dump(json_data, fp)"
   ]
  }
 ],
 "metadata": {
  "kernelspec": {
   "display_name": "Python 3",
   "language": "python",
   "name": "python3"
  },
  "language_info": {
   "codemirror_mode": {
    "name": "ipython",
    "version": 3
   },
   "file_extension": ".py",
   "mimetype": "text/x-python",
   "name": "python",
   "nbconvert_exporter": "python",
   "pygments_lexer": "ipython3",
   "version": "3.5.9"
  }
 },
 "nbformat": 4,
 "nbformat_minor": 2
}
