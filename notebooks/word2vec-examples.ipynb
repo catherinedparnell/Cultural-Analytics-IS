{
 "cells": [
  {
   "cell_type": "markdown",
   "metadata": {},
   "source": [
    "# word2vec model and sample queries\n",
    "\n",
    "See Miklov et. al. 2013 for a description of the method \n",
    "\n",
    "01/08/2020: Initial version"
   ]
  },
  {
   "cell_type": "code",
   "execution_count": null,
   "metadata": {
    "collapsed": true
   },
   "outputs": [],
   "source": [
    "# load required packages\n",
    "import gensim\n",
    "from sklearn.decomposition import PCA\n",
    "import numpy as np\n",
    "from matplotlib import pyplot as plt\n",
    "%matplotlib inline"
   ]
  },
  {
   "cell_type": "code",
   "execution_count": null,
   "metadata": {
    "collapsed": true
   },
   "outputs": [],
   "source": [
    "# load Google News word2vec model\n",
    "google_model = gensim.models.Word2Vec.load_word2vec_format('../models/google-vectors.w2v'\n",
    "                                                           ,binary=True)"
   ]
  },
  {
   "cell_type": "code",
   "execution_count": null,
   "metadata": {
    "collapsed": true
   },
   "outputs": [],
   "source": [
    "# make vocab available\n",
    "vocab = google_model.vocab"
   ]
  },
  {
   "cell_type": "code",
   "execution_count": null,
   "metadata": {
    "collapsed": false
   },
   "outputs": [],
   "source": [
    "print(\"vocab:\",len(vocab))"
   ]
  },
  {
   "cell_type": "code",
   "execution_count": null,
   "metadata": {
    "collapsed": false
   },
   "outputs": [],
   "source": [
    "# simple queries first, single word\n",
    "google_model.most_similar(\"self\",topn=20)"
   ]
  },
  {
   "cell_type": "code",
   "execution_count": null,
   "metadata": {
    "collapsed": false
   },
   "outputs": [],
   "source": [
    "# now we can add other terms to produce \"better\" queries\n",
    "query = [\"self\",\"individual\",\"sovereign\",\"person\"]\n",
    "google_model.most_similar(query,topn=20)"
   ]
  },
  {
   "cell_type": "code",
   "execution_count": null,
   "metadata": {
    "collapsed": false
   },
   "outputs": [],
   "source": [
    "# extract data to plot from a query (uses above, from \"query\" variable)\n",
    "# this is examining neighbors in semantic space \n",
    "\n",
    "response = google_model.most_similar(query,topn=20)\n",
    "\n",
    "neighbor_list=list()\n",
    "words=list()\n",
    "for i in response:\n",
    "    words.append(i[0])\n",
    "    neighbor_list.append(google_model.wv[i[0]])"
   ]
  },
  {
   "cell_type": "code",
   "execution_count": null,
   "metadata": {
    "collapsed": false
   },
   "outputs": [],
   "source": [
    "pca = PCA(n_components=2)\n",
    "plot_data = pca.fit_transform(neighbor_list)\n",
    "\n",
    "xs = plot_data[:, 0]\n",
    "ys = plot_data[:, 1]\n",
    "fig = plt.figure(figsize=(20, 15))\n",
    "plt.clf()\n",
    "plt.scatter(xs, ys, marker = 'o')\n",
    "  \n",
    "for i, w in enumerate(words):\n",
    "    plt.annotate(w, xy = (xs[i], ys[i]), xytext = (3, 3),\n",
    "    textcoords = 'offset points', ha = 'left', va = 'top')"
   ]
  },
  {
   "cell_type": "code",
   "execution_count": null,
   "metadata": {
    "collapsed": false
   },
   "outputs": [],
   "source": [
    "# we can subtract certain words:\n",
    "google_model.most_similar(positive=[\"self\",\"individual\",\"sovereign\",\"person\"], negative=['virtue'],topn=20)"
   ]
  },
  {
   "cell_type": "code",
   "execution_count": null,
   "metadata": {
    "collapsed": false
   },
   "outputs": [],
   "source": [
    "# this is the analogical reasoning task from the paper\n",
    "google_model.most_similar(positive=['woman', 'king'], negative=['man'])"
   ]
  },
  {
   "cell_type": "code",
   "execution_count": null,
   "metadata": {
    "collapsed": false
   },
   "outputs": [],
   "source": [
    "# access vectors directly\n",
    "google_model[\"self\"]"
   ]
  },
  {
   "cell_type": "code",
   "execution_count": null,
   "metadata": {
    "collapsed": true
   },
   "outputs": [],
   "source": []
  }
 ],
 "metadata": {
  "kernelspec": {
   "display_name": "Python 3",
   "language": "python",
   "name": "python3"
  },
  "language_info": {
   "codemirror_mode": {
    "name": "ipython",
    "version": 3
   },
   "file_extension": ".py",
   "mimetype": "text/x-python",
   "name": "python",
   "nbconvert_exporter": "python",
   "pygments_lexer": "ipython3",
   "version": "3.5.9"
  }
 },
 "nbformat": 4,
 "nbformat_minor": 2
}
