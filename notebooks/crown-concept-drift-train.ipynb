{
 "cells": [
  {
   "cell_type": "code",
   "execution_count": 1,
   "metadata": {},
   "outputs": [],
   "source": [
    "#!/usr/bin/env python\n",
    "# coding: utf-8\n",
    "\n",
    "import os, sys, gzip, csv\n",
    "from glob import glob\n",
    "\n",
    "# core nltk\n",
    "import nltk\n",
    "from nltk.tokenize import word_tokenize\n",
    "\n",
    "# gensim magic\n",
    "import gensim\n",
    "from gensim.test.utils import get_tmpfile\n",
    "from gensim.models import KeyedVectors\n",
    "\n",
    "import numpy as np\n",
    "import collections\n",
    "\n",
    "import matplotlib.pyplot as plt\n",
    "%matplotlib inline\n",
    "\n",
    "# for PCA\n",
    "from sklearn.decomposition import PCA\n",
    "\n",
    "# Linear model\n",
    "from sklearn.linear_model import LinearRegression\n",
    "\n",
    "# cosine similarity \n",
    "from sklearn.metrics.pairwise import cosine_similarity"
   ]
  },
  {
   "cell_type": "code",
   "execution_count": 3,
   "metadata": {},
   "outputs": [
    {
     "name": "stdout",
     "output_type": "stream",
     "text": [
      "starting: crown-henry\n",
      "starting: crown-edward\n",
      "starting: crown-mary\n",
      "starting: crown-elizabeth\n",
      "starting: crown-james\n",
      "starting: crown-charles\n"
     ]
    }
   ],
   "source": [
    "# load saved models in order\n",
    "crown_models = list()\n",
    "input_data = [\n",
    "    \"../models/crown-henry.w2v\",\n",
    "    \"../models/crown-edward.w2v\",\n",
    "    \"../models/crown-mary.w2v\",\n",
    "    \"../models/crown-elizabeth.w2v\",\n",
    "    \"../models/crown-james.w2v\",\n",
    "    \"../models/crown-charles.w2v\"\n",
    "]    \n",
    "\n",
    "for fp in input_data:\n",
    "    model_name = os.path.basename(fp).split(\".\")[0]\n",
    "    print(\"starting: {0}\".format(model_name))\n",
    "    crown_models.append([model_name,KeyedVectors.load(fp,mmap='r')])"
   ]
  },
  {
   "cell_type": "code",
   "execution_count": 4,
   "metadata": {},
   "outputs": [],
   "source": [
    "def get_change_all(model_a, model_b):\n",
    "\n",
    "    # extract all common vocab\n",
    "    common_vocab = [word for word in model_a.vocab if word in model_b.vocab]\n",
    "    common_vectors_a = model_a[common_vocab]\n",
    "    common_vectors_b = model_b[common_vocab]\n",
    "    \n",
    "    # now use Sklearn's LinearRegression to combine vector space\n",
    "    lin_model = LinearRegression()\n",
    "    lin_model.fit(common_vectors_a, common_vectors_b)\n",
    "    \n",
    "    shared_vectors = collections.OrderedDict()\n",
    "    \n",
    "    for word in model_a.vocab:\n",
    "        word_vector = lin_model.predict(model_a[word].reshape(1, -1))\n",
    "        shared_vectors[word] = word_vector.reshape(-1)\n",
    "    \n",
    "    # now add words only in model b\n",
    "    #for word in [word for word in model_b.vocab if word not in common_vocab]:\n",
    "    #    shared_vectors[word] = model_b[word]\n",
    "        \n",
    "    vocab = list(shared_vectors.keys())\n",
    "    shared_embeddings = np.array(list(shared_vectors.values()))\n",
    "    \n",
    "    distances = list()\n",
    "    for word in vocab:\n",
    "        idx = vocab.index(word)\n",
    "        distances.append([word,\n",
    "                          float(cosine_similarity(model_a[word].reshape(1,-1),\n",
    "                                            shared_embeddings[idx].reshape(1,-1)))])    \n",
    "    return(distances)"
   ]
  },
  {
   "cell_type": "code",
   "execution_count": 5,
   "metadata": {},
   "outputs": [],
   "source": [
    "def write_csv(data,model):\n",
    "    csvfile = gzip.open('../models/' + str(model) + '-drift.csv.gz', 'wt')\n",
    "    writer = csv.writer(csvfile, delimiter=',')\n",
    "    for w, d in data:\n",
    "        writer.writerow([w,d])"
   ]
  },
  {
   "cell_type": "code",
   "execution_count": 6,
   "metadata": {},
   "outputs": [
    {
     "name": "stdout",
     "output_type": "stream",
     "text": [
      "['crown-edward', <gensim.models.keyedvectors.Word2VecKeyedVectors object at 0x1a1bd2b908>]\n",
      "['crown-mary', <gensim.models.keyedvectors.Word2VecKeyedVectors object at 0x1a1c6142e8>]\n",
      "['crown-elizabeth', <gensim.models.keyedvectors.Word2VecKeyedVectors object at 0x1a1e080278>]\n",
      "['crown-james', <gensim.models.keyedvectors.Word2VecKeyedVectors object at 0x1a1e0803c8>]\n",
      "['crown-charles', <gensim.models.keyedvectors.Word2VecKeyedVectors object at 0x1a1c560eb8>]\n"
     ]
    }
   ],
   "source": [
    "# iterate through models\n",
    "for i, model in enumerate(crown_models):\n",
    "    if i >= 1:\n",
    "        print(crown_models[i])\n",
    "        data = get_change_all(crown_models[i -1][1], crown_models[i][1])\n",
    "        write_csv(data,crown_models[i][0])"
   ]
  },
  {
   "cell_type": "code",
   "execution_count": null,
   "metadata": {},
   "outputs": [],
   "source": []
  }
 ],
 "metadata": {
  "kernelspec": {
   "display_name": "Python 3",
   "language": "python",
   "name": "python3"
  },
  "language_info": {
   "codemirror_mode": {
    "name": "ipython",
    "version": 3
   },
   "file_extension": ".py",
   "mimetype": "text/x-python",
   "name": "python",
   "nbconvert_exporter": "python",
   "pygments_lexer": "ipython3",
   "version": "3.7.3"
  }
 },
 "nbformat": 4,
 "nbformat_minor": 2
}
